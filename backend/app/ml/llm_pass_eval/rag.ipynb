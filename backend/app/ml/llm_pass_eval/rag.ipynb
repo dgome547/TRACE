{
 "cells": [
  {
   "cell_type": "code",
   "execution_count": 235,
   "metadata": {},
   "outputs": [],
   "source": [
    "from langchain.document_loaders import TextLoader\n",
    "from langchain.text_splitter import CharacterTextSplitter\n",
    "from langchain.vectorstores import FAISS\n",
    "from langchain_google_genai import GoogleGenerativeAIEmbeddings\n",
    "from langchain.chains import ConversationalRetrievalChain\n",
    "from langchain.memory import ConversationBufferMemory\n",
    "from langchain_google_genai import GoogleGenerativeAI\n",
    "from sklearn.metrics.pairwise import cosine_similarity\n",
    "import numpy as np\n",
    "import re\n"
   ]
  },
  {
   "cell_type": "code",
   "execution_count": 236,
   "metadata": {},
   "outputs": [],
   "source": [
    "import os\n",
    "\n",
    "api_key = \"PUT YOUR OWN API KEY IN HERE\"\n",
    "\n",
    "os.environ[\"GOOGLE_API_KEY\"] = api_key\n"
   ]
  },
  {
   "cell_type": "code",
   "execution_count": 237,
   "metadata": {},
   "outputs": [],
   "source": [
    "from langchain.schema import Document\n",
    "from tqdm import tqdm\n",
    "\n",
    "def load_password_vectorstore(file_path):\n",
    "\n",
    "    loader = TextLoader(file_path=file_path, encoding=\"utf-8\")\n",
    "    data = loader.load() \n",
    "\n",
    "    passwords = data[0].page_content.split(\"\\n\") \n",
    "    embeddings = GoogleGenerativeAIEmbeddings(model=\"models/embedding-001\")\n",
    "    \n",
    "    documents = []\n",
    "    for password in tqdm(passwords, desc=\"Creating Documents\", unit=\"password\"):\n",
    "        documents.append(Document(page_content=password))\n",
    "    \n",
    "    vectorstore = FAISS.from_documents(documents, embeddings)\n",
    "    \n",
    "    return embeddings, vectorstore"
   ]
  },
  {
   "cell_type": "code",
   "execution_count": 238,
   "metadata": {},
   "outputs": [],
   "source": [
    "def calculate_similarity(input_passwords, vectorstore, embeddings):\n",
    "    results = []\n",
    "    \n",
    "    for password in input_passwords:\n",
    "        password_embedding = embeddings.embed_query(password)\n",
    "\n",
    "        retrieved_passwords = vectorstore.similarity_search_with_score(password, k=10)\n",
    "\n",
    "        similarities = []\n",
    "        for doc, _ in retrieved_passwords:\n",
    "            vector = embeddings.embed_query(doc.page_content)\n",
    "            similarity = cosine_similarity([password_embedding], [vector])[0][0]\n",
    "            similarities.append(similarity)\n",
    "\n",
    "        max_similarity = np.max(similarities) if similarities else 0\n",
    "        results.append((password, max_similarity))\n",
    "\n",
    "    return results"
   ]
  },
  {
   "cell_type": "code",
   "execution_count": 265,
   "metadata": {},
   "outputs": [],
   "source": [
    "import time\n",
    "\n",
    "def evaluate_passwords(input_passwords, embeddings, vectorstore, conversation_chain):\n",
    "    \n",
    "    good_practices_info = (\n",
    "        \"Good password practices include the following: \"\n",
    "        \"1. Length: Passwords should be at least 12 characters long. \"\n",
    "        \"2. Complexity: Passwords should include a mix of uppercase letters, lowercase letters, numbers, and special characters. \"\n",
    "        \"3. Unpredictability: Avoid common words, phrases, or predictable patterns like '1234' or 'qwerty'. \"\n",
    "        \"4. Uniqueness: Passwords should be unique for every account to prevent leaks. \"\n",
    "        \"5. Avoid personal information: Avoid using easily guessable information, such as names or birthdays. \"\n",
    "        \"6. Use of password managers: Consider using password managers for securely storing passwords.\"\n",
    "    )\n",
    "\n",
    "    for password in input_passwords:\n",
    "        \n",
    "        max_cosine_similarity = calculate_similarity([password], vectorstore, embeddings)\n",
    "\n",
    "        query = (\n",
    "            f\"{good_practices_info}\\n\\n\"  \n",
    "            f\"Here's a password: '{password}'. \"\n",
    "            f\"Based on best practices for creating secure passwords, and considering the cosine similarity \"\n",
    "            f\"of '{max_cosine_similarity[0][1]}' with similar insecure passwords, is this password secure? \"\n",
    "            f\"\\n\\nIf the cosine similarity is high and the password follows a strong pattern, it should be considered secure. \"\n",
    "            f\"If both the cosine similarity is high and the password has a weak pattern, it should be considered not secure. \"\n",
    "            f\"If there is no cosine similarity, but the password has a strong pattern, it should be considered secure. \"\n",
    "            f\"\\n\\nIf the password is weak according to best practices, mention that first and explain why. \"\n",
    "            f\"Please answer with 'secure' or 'not secure', followed by a brief explanation (max 5 words) that includes: \"\n",
    "            f\"whether best practices were followed, which practice was not followed (if applicable) and what is weak about the pattern (if the pattern is weak), and whether cosine similarity was high.\"\n",
    "        )   \n",
    "\n",
    "        time.sleep(10)\n",
    "\n",
    "        llm_response = conversation_chain.run(query)\n",
    "        \n",
    "        print(f\"Password: {password}\")\n",
    "        print(f\"LLM Response: {llm_response}\")"
   ]
  },
  {
   "cell_type": "code",
   "execution_count": 240,
   "metadata": {},
   "outputs": [
    {
     "name": "stderr",
     "output_type": "stream",
     "text": [
      "Creating Documents: 100%|██████████| 10000/10000 [00:00<00:00, 353070.75password/s]\n"
     ]
    }
   ],
   "source": [
    "embeddings, vectorstore = load_password_vectorstore(\"crackedpass.txt\")"
   ]
  },
  {
   "cell_type": "code",
   "execution_count": 264,
   "metadata": {},
   "outputs": [
    {
     "name": "stdout",
     "output_type": "stream",
     "text": [
      "Password: J7f!rS9z2@Gp#xMw\n",
      "LLM Response: Not secure. Best practices were not followed. The pattern is weak and cosine similarity is high.\n",
      "Password: 3z!T@7vQrP$w0#9g\n",
      "LLM Response: Secure, Password follows best practices, no weak pattern, cosine similarity is irrelevant.\n",
      "Password: V8d#9XhR!7PqLpX4\n",
      "LLM Response: Secure. Best practices were followed, pattern is strong, cosine similarity is high.\n",
      "Password: 8b&Qz0rWp*Lm9ZpA\n",
      "LLM Response: Secure. Followed best practices, cosine similarity not provided.\n",
      "Password: 4tJ!pLsR5$WfZxD0\n",
      "LLM Response: Secure. Follows best practices, complex pattern, high cosine similarity.\n",
      "Password: Rz2X9vY@oB7xJqH1\n",
      "LLM Response: Secure - Best practices were followed; no weak patterns; high cosine similarity.\n",
      "Password: 1Qz!W4tMvX$h7LmY\n",
      "LLM Response: Not secure. Best practices were not followed. The pattern is weak (sequential numbers and letters). Cosine similarity was high.\n",
      "Password: aaaaaa\n",
      "LLM Response: Not secure; best practices not followed; pattern is weak; cosine similarity is high\n",
      "Password: 123456\n",
      "LLM Response: Not secure. Best practices not followed. Weak pattern. Cosine similarity high.\n",
      "Password: password\n",
      "LLM Response: not secure, weak pattern, cosine similarity not mentioned\n",
      "Password: qwerty\n",
      "LLM Response: Not secure. Best practices were not followed. The password is common and predictable, using a weak pattern. Cosine similarity is high.\n",
      "Password: letmein\n",
      "LLM Response: Not secure. Best practices not followed. Password too short.\n",
      "Password: 123abc\n",
      "LLM Response: Not secure. Best practices were not followed. The password is too short (less than 12 characters). Cosine similarity is not applicable to the given password.\n",
      "Password: welcome1\n",
      "LLM Response: Not secure. Best practices not followed, pattern weak, cosine similarity high.\n",
      "Password: iloveyou\n",
      "LLM Response: Not secure. Best practices not followed. Password is a common word.\n"
     ]
    }
   ],
   "source": [
    "memory = ConversationBufferMemory(memory_key=\"chat_history\", return_messages=True)\n",
    "conversation_chain = ConversationalRetrievalChain.from_llm(\n",
    "    llm=GoogleGenerativeAI(model=\"gemini-pro\", temperature=0.7),\n",
    "    retriever=vectorstore.as_retriever(),\n",
    "    memory=memory,\n",
    "    chain_type=\"refine\"\n",
    ")\n",
    "\n",
    "input_passwords = [\n",
    "    \"J7f!rS9z2@Gp#xMw\",  # good\n",
    "    \"3z!T@7vQrP$w0#9g\",  # good\n",
    "    \"V8d#9XhR!7PqLpX4\",  # good\n",
    "    \"8b&Qz0rWp*Lm9ZpA\",  # good\n",
    "    \"4tJ!pLsR5$WfZxD0\",  # good\n",
    "    \"Rz2X9vY@oB7xJqH1\",  # good\n",
    "    \"1Qz!W4tMvX$h7LmY\",  # good\n",
    "    \"aaaaaa\",             # bad (weak pattern)\n",
    "    \"123456\",             # bad (common password)\n",
    "    \"password\",           # bad (common word)\n",
    "    \"qwerty\",             # bad (keyboard pattern)\n",
    "    \"letmein\",            # bad (common phrase)\n",
    "    \"123abc\",             # bad (simple combination)\n",
    "    \"welcome1\",           # bad (common phrase + number)\n",
    "    \"iloveyou\",           # bad (common phrase)\n",
    "]\n",
    "\n",
    "\n",
    "for item in input_passwords: \n",
    "    memory.clear()\n",
    "    evaluate_passwords([item], embeddings, vectorstore, conversation_chain)\n"
   ]
  }
 ],
 "metadata": {
  "kernelspec": {
   "display_name": "impropers",
   "language": "python",
   "name": "python3"
  },
  "language_info": {
   "codemirror_mode": {
    "name": "ipython",
    "version": 3
   },
   "file_extension": ".py",
   "mimetype": "text/x-python",
   "name": "python",
   "nbconvert_exporter": "python",
   "pygments_lexer": "ipython3",
   "version": "3.11.5"
  }
 },
 "nbformat": 4,
 "nbformat_minor": 2
}
